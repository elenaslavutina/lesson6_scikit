{
  "nbformat": 4,
  "nbformat_minor": 0,
  "metadata": {
    "colab": {
      "name": "lesson6.ipynb",
      "provenance": [],
      "collapsed_sections": []
    },
    "kernelspec": {
      "name": "python3",
      "display_name": "Python 3"
    },
    "language_info": {
      "name": "python"
    }
  },
  "cells": [
    {
      "cell_type": "code",
      "metadata": {
        "id": "_Dv_y-VkMCg6"
      },
      "source": [
        "import numpy as np\n",
        "import pandas as pd\n",
        "from sklearn.model_selection import train_test_split\n",
        "from sklearn.datasets import  load_boston\n",
        "from sklearn.linear_model import LinearRegression\n",
        "from sklearn.metrics import r2_score\n",
        "boston = load_boston()\n",
        "data = boston[\"data\"]\n",
        "target = boston[\"target\"]\n",
        "feature_names = boston[\"feature_names\"]\n",
        "X = pd.DataFrame(data, columns=feature_names)\n",
        "y = pd.DataFrame(target, columns=[\"price\"])\n",
        "X_train, X_test, y_train, y_test = train_test_split(X, y, test_size=0.3, random_state = 42)"
      ],
      "execution_count": 13,
      "outputs": []
    },
    {
      "cell_type": "code",
      "metadata": {
        "id": "RZOW2EbP-742"
      },
      "source": [
        "lr = LinearRegression()\n",
        "lr.fit(X_train, y_train)\n",
        "y_pred = lr.predict(X_test)"
      ],
      "execution_count": 14,
      "outputs": []
    },
    {
      "cell_type": "code",
      "metadata": {
        "colab": {
          "base_uri": "https://localhost:8080/",
          "height": 206
        },
        "id": "BfZhZIdT_EMH",
        "outputId": "97fda296-b3dd-4e46-ff29-776df3946593"
      },
      "source": [
        "check_test = pd.DataFrame({\n",
        "    \"y_test\": y_test[\"price\"],\n",
        "    \"y_pred\": y_pred.flatten(),\n",
        "})\n",
        "\n",
        "check_test[\"error\"] = check_test[\"y_pred\"] - check_test[\"y_test\"]\n",
        "check_test.head()"
      ],
      "execution_count": 15,
      "outputs": [
        {
          "output_type": "execute_result",
          "data": {
            "text/html": [
              "<div>\n",
              "<style scoped>\n",
              "    .dataframe tbody tr th:only-of-type {\n",
              "        vertical-align: middle;\n",
              "    }\n",
              "\n",
              "    .dataframe tbody tr th {\n",
              "        vertical-align: top;\n",
              "    }\n",
              "\n",
              "    .dataframe thead th {\n",
              "        text-align: right;\n",
              "    }\n",
              "</style>\n",
              "<table border=\"1\" class=\"dataframe\">\n",
              "  <thead>\n",
              "    <tr style=\"text-align: right;\">\n",
              "      <th></th>\n",
              "      <th>y_test</th>\n",
              "      <th>y_pred</th>\n",
              "      <th>error</th>\n",
              "    </tr>\n",
              "  </thead>\n",
              "  <tbody>\n",
              "    <tr>\n",
              "      <th>173</th>\n",
              "      <td>23.6</td>\n",
              "      <td>28.648960</td>\n",
              "      <td>5.048960</td>\n",
              "    </tr>\n",
              "    <tr>\n",
              "      <th>274</th>\n",
              "      <td>32.4</td>\n",
              "      <td>36.495014</td>\n",
              "      <td>4.095014</td>\n",
              "    </tr>\n",
              "    <tr>\n",
              "      <th>491</th>\n",
              "      <td>13.6</td>\n",
              "      <td>15.411193</td>\n",
              "      <td>1.811193</td>\n",
              "    </tr>\n",
              "    <tr>\n",
              "      <th>72</th>\n",
              "      <td>22.8</td>\n",
              "      <td>25.403213</td>\n",
              "      <td>2.603213</td>\n",
              "    </tr>\n",
              "    <tr>\n",
              "      <th>452</th>\n",
              "      <td>16.1</td>\n",
              "      <td>18.855280</td>\n",
              "      <td>2.755280</td>\n",
              "    </tr>\n",
              "  </tbody>\n",
              "</table>\n",
              "</div>"
            ],
            "text/plain": [
              "     y_test     y_pred     error\n",
              "173    23.6  28.648960  5.048960\n",
              "274    32.4  36.495014  4.095014\n",
              "491    13.6  15.411193  1.811193\n",
              "72     22.8  25.403213  2.603213\n",
              "452    16.1  18.855280  2.755280"
            ]
          },
          "metadata": {
            "tags": []
          },
          "execution_count": 15
        }
      ]
    },
    {
      "cell_type": "code",
      "metadata": {
        "colab": {
          "base_uri": "https://localhost:8080/"
        },
        "id": "Q_tbTOwV_K8m",
        "outputId": "bbe5ca66-049f-45fa-b83a-17b9cb5e7cb1"
      },
      "source": [
        "print(r2_score(y_pred, y_test))"
      ],
      "execution_count": 19,
      "outputs": [
        {
          "output_type": "stream",
          "text": [
            "0.8481499145965063\n"
          ],
          "name": "stdout"
        }
      ]
    },
    {
      "cell_type": "markdown",
      "metadata": {
        "id": "G-v-xyOaJD3S"
      },
      "source": [
        "Задание 2"
      ]
    },
    {
      "cell_type": "code",
      "metadata": {
        "id": "HGBp5QcoJCKe"
      },
      "source": [
        "X_train, X_valid, y_train, y_valid = train_test_split(X, y, test_size=0.3, random_state=42)"
      ],
      "execution_count": 5,
      "outputs": []
    },
    {
      "cell_type": "code",
      "metadata": {
        "colab": {
          "base_uri": "https://localhost:8080/"
        },
        "id": "Ka6YniNYZu0K",
        "outputId": "0871f27c-fec9-4118-d143-ff871ee25db6"
      },
      "source": [
        "from sklearn.ensemble import RandomForestRegressor \n",
        "\n",
        "model = RandomForestRegressor (n_estimators = 1000, max_depth=12, random_state=42)\n",
        "    \n",
        "model.fit(X_train, y_train.values[:, 0])"
      ],
      "execution_count": 11,
      "outputs": [
        {
          "output_type": "execute_result",
          "data": {
            "text/plain": [
              "RandomForestRegressor(bootstrap=True, ccp_alpha=0.0, criterion='mse',\n",
              "                      max_depth=12, max_features='auto', max_leaf_nodes=None,\n",
              "                      max_samples=None, min_impurity_decrease=0.0,\n",
              "                      min_impurity_split=None, min_samples_leaf=1,\n",
              "                      min_samples_split=2, min_weight_fraction_leaf=0.0,\n",
              "                      n_estimators=1000, n_jobs=None, oob_score=False,\n",
              "                      random_state=42, verbose=0, warm_start=False)"
            ]
          },
          "metadata": {
            "tags": []
          },
          "execution_count": 11
        }
      ]
    },
    {
      "cell_type": "code",
      "metadata": {
        "colab": {
          "base_uri": "https://localhost:8080/"
        },
        "id": "16S7Qb93Jbz2",
        "outputId": "b6df7c94-9ff7-4a74-adb4-5c90330e3799"
      },
      "source": [
        "y_pred = model.predict(X_valid)\n",
        "y_pred_train = model.predict(X_train)\n",
        "        \n",
        "print(r2_score(y_pred, y_test))"
      ],
      "execution_count": 18,
      "outputs": [
        {
          "output_type": "stream",
          "text": [
            "0.8481499145965063\n"
          ],
          "name": "stdout"
        }
      ]
    },
    {
      "cell_type": "markdown",
      "metadata": {
        "id": "pLPfJ0mDatMm"
      },
      "source": [
        "Задание №3"
      ]
    },
    {
      "cell_type": "code",
      "metadata": {
        "colab": {
          "base_uri": "https://localhost:8080/"
        },
        "id": "SzqZgdg1a18q",
        "outputId": "ed1bffd5-e9ff-456c-8c02-1286da06585f"
      },
      "source": [
        "imp = pd.DataFrame(model.feature_importances_)\n",
        "names = pd.DataFrame(feature_names.reshape(13,1))  \n",
        "\n",
        "feature_importance = pd.concat([names, imp], axis=1)\n",
        "feature_importance.columns = ['name','importance']\n",
        "\n",
        "df = feature_importance.sort_values(by=['importance'],ascending=False)\n",
        "print(df)"
      ],
      "execution_count": 67,
      "outputs": [
        {
          "output_type": "stream",
          "text": [
            "       name  importance\n",
            "12    LSTAT    0.415679\n",
            "5        RM    0.402705\n",
            "7       DIS    0.064033\n",
            "0      CRIM    0.032117\n",
            "10  PTRATIO    0.018090\n",
            "4       NOX    0.014368\n",
            "6       AGE    0.014245\n",
            "11        B    0.012311\n",
            "9       TAX    0.011692\n",
            "2     INDUS    0.007094\n",
            "8       RAD    0.004968\n",
            "1        ZN    0.001550\n",
            "3      CHAS    0.001149\n"
          ],
          "name": "stdout"
        }
      ]
    }
  ]
}